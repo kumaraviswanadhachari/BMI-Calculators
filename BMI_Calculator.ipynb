{
  "nbformat": 4,
  "nbformat_minor": 0,
  "metadata": {
    "colab": {
      "provenance": []
    },
    "kernelspec": {
      "name": "python3",
      "display_name": "Python 3"
    },
    "language_info": {
      "name": "python"
    }
  },
  "cells": [
    {
      "cell_type": "code",
      "execution_count": null,
      "metadata": {
        "colab": {
          "base_uri": "https://localhost:8080/"
        },
        "id": "Ism5uP_SDLzU",
        "outputId": "d5e1ad2a-2fb6-450d-f5c5-100fc99340dc"
      },
      "outputs": [
        {
          "output_type": "stream",
          "name": "stdout",
          "text": [
            "Welcome to the BMI Calculator\n",
            "Please enter your weight (in kg): 60\n",
            "Please enter your height (in meters): 6\n",
            "\n",
            "Your BMI is: 1.67\n",
            "Based on your BMI, you are classified as: Underweight\n"
          ]
        }
      ],
      "source": [
        "def calculate_bmi(weight, height):\n",
        "    \"\"\"Calculate BMI given weight in kg and height in meters.\"\"\"\n",
        "    bmi = weight / (height ** 2)\n",
        "    return bmi\n",
        "\n",
        "def classify_bmi(bmi):\n",
        "    \"\"\"Classify BMI into categories.\"\"\"\n",
        "    if bmi < 18.5:\n",
        "        return \"Underweight\"\n",
        "    elif 18.5 <= bmi < 24.9:\n",
        "        return \"Normal weight\"\n",
        "    elif 25 <= bmi < 29.9:\n",
        "        return \"Overweight\"\n",
        "    else:\n",
        "        return \"Obesity\"\n",
        "\n",
        "def main():\n",
        "    \"\"\"Main function to run the BMI calculator.\"\"\"\n",
        "    print(\"Welcome to the BMI Calculator\")\n",
        "\n",
        "    try:\n",
        "        weight = float(input(\"Please enter your weight (in kg): \"))\n",
        "        height = float(input(\"Please enter your height (in meters): \"))\n",
        "\n",
        "        bmi = calculate_bmi(weight, height)\n",
        "        category = classify_bmi(bmi)\n",
        "\n",
        "        print(f\"\\nYour BMI is: {bmi:.2f}\")\n",
        "        print(f\"Based on your BMI, you are classified as: {category}\")\n",
        "\n",
        "    except ValueError:\n",
        "        print(\"Invalid input. Please enter numerical values for weight and height.\")\n",
        "\n",
        "if __name__ == \"__main__\":\n",
        "    main()\n"
      ]
    }
  ]
}